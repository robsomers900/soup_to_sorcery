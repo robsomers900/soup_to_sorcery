{
 "cells": [
  {
   "cell_type": "markdown",
   "metadata": {},
   "source": [
    "# \"From Soup to Sorcery: \n",
    "## Unraveling Books, Films, and Music with Text Classification\"\n"
   ]
  },
  {
   "cell_type": "markdown",
   "metadata": {},
   "source": [
    "## Task 1: Data Collection"
   ]
  },
  {
   "cell_type": "markdown",
   "metadata": {},
   "source": [
    "Data will be scraped from a set of web pages. The data in question pertains to news articles under the following categories: \n",
    "- Film\n",
    "- Books\n",
    "- Music\n",
    "\n",
    "The webpages in question have URLs of the format:\n",
    "http://mlg.ucd.ie/modules/COMP41680/assignment2/month-jan-001.html"
   ]
  },
  {
   "cell_type": "code",
   "execution_count": 563,
   "metadata": {},
   "outputs": [],
   "source": [
    "from requests import get\n",
    "from bs4 import BeautifulSoup\n",
    "url = \"http://mlg.ucd.ie/modules/COMP41680/assignment2/month-jan-001.html\"\n",
    "response = get(url)\n",
    "html_soup = BeautifulSoup(response.text, 'html.parser') #BeautifulSoup package is used to parse the HTML data."
   ]
  },
  {
   "cell_type": "code",
   "execution_count": 564,
   "metadata": {},
   "outputs": [
    {
     "name": "stdout",
     "output_type": "stream",
     "text": [
      "Let's resolve to reconnect, says Welby in new year message \n",
      " UK-News \n",
      " The archbishop of Canterbury will urge people to make personal connections with others in 2020 to create a new unity in a divided society. In his new …\n"
     ]
    }
   ],
   "source": [
    "article_container = html_soup.find_all('div', class_ = \"article\")\n",
    "first_article = article_container[0]\n",
    "title = first_article.h5.a.text #\n",
    "category = first_article.find_all('p', class_=\"metadata\")\n",
    "snippet = first_article.find('p', class_ = \"snippet\").text\n",
    "print(title,\"\\n\",category[1].text[10:],\"\\n\",snippet) #display sample of one article"
   ]
  },
  {
   "cell_type": "markdown",
   "metadata": {},
   "source": [
    "The HTML data was analysed to give clarity on its structure."
   ]
  },
  {
   "cell_type": "code",
   "execution_count": 565,
   "metadata": {},
   "outputs": [],
   "source": [
    "articles = [] #list to store parsed data\n",
    "for item in article_container: #loop is implemented to iterate through every article\n",
    "    dict = {}\n",
    "    title = item.h5.a.text #pull title data from h5 heading\n",
    "    category = item.find_all('p', class_=\"metadata\")[1].text[10:] #find category data\n",
    "    snippet = item.find('p', class_ = \"snippet\").text #find snippet data\n",
    "    if category == \"Books\" or category == \"Film\" or category ==\"Music\":\n",
    "        dict = {\"Title\": title, \"Category\": category, \"Snippet\": snippet}\n",
    "        articles.append(dict)"
   ]
  },
  {
   "cell_type": "code",
   "execution_count": 566,
   "metadata": {},
   "outputs": [],
   "source": [
    "# a function is created to scrape the data from each page, i.e., each unique URL.\n",
    "def scrape_page(url):\n",
    "    response = get(url)\n",
    "    html_soup = BeautifulSoup(response.text, 'html.parser')\n",
    "    article_container = html_soup.find_all('div', class_ = \"article\")\n",
    "    list = []\n",
    "    for item in article_container:\n",
    "        dict = {}\n",
    "        title = item.h5.a.text\n",
    "        category = item.find_all('p', class_=\"metadata\")[1].text[10:]\n",
    "        snippet = item.find('p', class_ = \"snippet\").text\n",
    "        if category == \"Books\" or category == \"Film\" or category ==\"Music\":\n",
    "            dict = {\"Category\": category, \"Title\": title, \"Snippet\": snippet}\n",
    "            list.append(dict)\n",
    "    return(list)"
   ]
  },
  {
   "cell_type": "code",
   "execution_count": 567,
   "metadata": {},
   "outputs": [],
   "source": [
    "articles = []\n",
    "page_number = 1\n",
    "while page_number <= 31:\n",
    "    number = str(page_number).zfill(3)\n",
    "    url = url = \"http://mlg.ucd.ie/modules/COMP41680/assignment2/month-jan-{0}.html\".format(number)\n",
    "    page_number += 1\n",
    "    articles.append(scrape_page(url))"
   ]
  },
  {
   "cell_type": "markdown",
   "metadata": {},
   "source": [
    "The newly created function, scrape_page, is implemented in the above cell. Its output is a list of dictionaries, where each dictionary pertains to a single article. The keys of the dictionaries are the article title, category, and snippet, and the values are their respective values. A sample of the list is displayed below."
   ]
  },
  {
   "cell_type": "code",
   "execution_count": 568,
   "metadata": {},
   "outputs": [
    {
     "data": {
      "text/plain": [
       "[{'Category': 'Books',\n",
       "  'Title': \"Be honest. You're not going to read all those books on your holiday, are you?\",\n",
       "  'Snippet': 'Every year, about this time, my Instagram feed fills up with pictures of books. Theyâ\\x80\\x99re piled somewhere between five and ten inches high, sometimes st …'},\n",
       " {'Category': 'Music',\n",
       "  'Title': \"Mariah Carey's Twitter account hacked on New Year's Eve\",\n",
       "  'Snippet': 'Mariah Careyâ\\x80\\x99s Twitter account appeared to have been hacked late Tuesday afternoon, sharing numerous racist slurs and comments with the singerâ\\x80\\x99s 21.4 …'},\n",
       " {'Category': 'Books',\n",
       "  'Title': 'Providence Lost by Paul Lay review â\\x80\\x93 the rise and fall of Oliver Cromwellâ\\x80\\x99s Protectorate',\n",
       "  'Snippet': 'The only public execution of a British head of state occurred 371 years ago outside the Banqueting House in Whitehall on 30 January 1649. It was a rad …'}]"
      ]
     },
     "execution_count": 568,
     "metadata": {},
     "output_type": "execute_result"
    }
   ],
   "source": [
    "#articles is a list containing lists. Each list withing articles represents a page and is a list of dictionaries where each dictionary represents an article and the dictionary items are Title, Category, and Snippet.\n",
    "articles[0][:3]"
   ]
  },
  {
   "cell_type": "code",
   "execution_count": 569,
   "metadata": {},
   "outputs": [
    {
     "data": {
      "text/html": [
       "<div>\n",
       "<style scoped>\n",
       "    .dataframe tbody tr th:only-of-type {\n",
       "        vertical-align: middle;\n",
       "    }\n",
       "\n",
       "    .dataframe tbody tr th {\n",
       "        vertical-align: top;\n",
       "    }\n",
       "\n",
       "    .dataframe thead th {\n",
       "        text-align: right;\n",
       "    }\n",
       "</style>\n",
       "<table border=\"1\" class=\"dataframe\">\n",
       "  <thead>\n",
       "    <tr style=\"text-align: right;\">\n",
       "      <th></th>\n",
       "      <th>Category</th>\n",
       "      <th>Snippet</th>\n",
       "    </tr>\n",
       "    <tr>\n",
       "      <th>Title</th>\n",
       "      <th></th>\n",
       "      <th></th>\n",
       "    </tr>\n",
       "  </thead>\n",
       "  <tbody>\n",
       "    <tr>\n",
       "      <th>Be honest. You're not going to read all those books on your holiday, are you?</th>\n",
       "      <td>Books</td>\n",
       "      <td>Every year, about this time, my Instagram feed...</td>\n",
       "    </tr>\n",
       "    <tr>\n",
       "      <th>Mariah Carey's Twitter account hacked on New Year's Eve</th>\n",
       "      <td>Music</td>\n",
       "      <td>Mariah Careyâs Twitter account appeared to h...</td>\n",
       "    </tr>\n",
       "    <tr>\n",
       "      <th>Providence Lost by Paul Lay review â the rise and fall of Oliver Cromwellâs Protectorate</th>\n",
       "      <td>Books</td>\n",
       "      <td>The only public execution of a British head of...</td>\n",
       "    </tr>\n",
       "    <tr>\n",
       "      <th>War epics, airmen and young Sopranos: essential films for 2020</th>\n",
       "      <td>Film</td>\n",
       "      <td>1917 An epic of Lean-ian proportions is delive...</td>\n",
       "    </tr>\n",
       "    <tr>\n",
       "      <th>'I'm on the hunt for humour and hope': what will authors be reading in 2020?</th>\n",
       "      <td>Books</td>\n",
       "      <td>Matt Haig I have been very dark and gloomy wit...</td>\n",
       "    </tr>\n",
       "    <tr>\n",
       "      <th>The most exciting movies of 2020 â horror</th>\n",
       "      <td>Film</td>\n",
       "      <td>The Grudge A belated English language reboot o...</td>\n",
       "    </tr>\n",
       "    <tr>\n",
       "      <th>Diary of a Murderer by Kim Young-ha review â dark stories from South Korea</th>\n",
       "      <td>Books</td>\n",
       "      <td>Given that loss of memory has become a familia...</td>\n",
       "    </tr>\n",
       "    <tr>\n",
       "      <th>TS Eliotâs intimate letters to confidante unveiled after 60 years</th>\n",
       "      <td>Books</td>\n",
       "      <td>A collection of more than 1,000 letters from t...</td>\n",
       "    </tr>\n",
       "    <tr>\n",
       "      <th>Woodford folk festival review â a much-needed moment of positivity and reprieve</th>\n",
       "      <td>Music</td>\n",
       "      <td>If Woodford folk festival was in mourning this...</td>\n",
       "    </tr>\n",
       "    <tr>\n",
       "      <th>In the Line of Duty review â race-against-time cop thriller</th>\n",
       "      <td>Film</td>\n",
       "      <td>Thereâs a straight-to-video feel to this cop...</td>\n",
       "    </tr>\n",
       "  </tbody>\n",
       "</table>\n",
       "</div>"
      ],
      "text/plain": [
       "                                                   Category  \\\n",
       "Title                                                         \n",
       "Be honest. You're not going to read all those b...    Books   \n",
       "Mariah Carey's Twitter account hacked on New Ye...    Music   \n",
       "Providence Lost by Paul Lay review â the rise...    Books   \n",
       "War epics, airmen and young Sopranos: essential...     Film   \n",
       "'I'm on the hunt for humour and hope': what wil...    Books   \n",
       "The most exciting movies of 2020 â horror            Film   \n",
       "Diary of a Murderer by Kim Young-ha review â ...    Books   \n",
       "TS Eliotâs intimate letters to confidante unv...    Books   \n",
       "Woodford folk festival review â a much-needed...    Music   \n",
       "In the Line of Duty review â race-against-tim...     Film   \n",
       "\n",
       "                                                                                              Snippet  \n",
       "Title                                                                                                  \n",
       "Be honest. You're not going to read all those b...  Every year, about this time, my Instagram feed...  \n",
       "Mariah Carey's Twitter account hacked on New Ye...  Mariah Careyâs Twitter account appeared to h...  \n",
       "Providence Lost by Paul Lay review â the rise...  The only public execution of a British head of...  \n",
       "War epics, airmen and young Sopranos: essential...  1917 An epic of Lean-ian proportions is delive...  \n",
       "'I'm on the hunt for humour and hope': what wil...  Matt Haig I have been very dark and gloomy wit...  \n",
       "The most exciting movies of 2020 â horror         The Grudge A belated English language reboot o...  \n",
       "Diary of a Murderer by Kim Young-ha review â ...  Given that loss of memory has become a familia...  \n",
       "TS Eliotâs intimate letters to confidante unv...  A collection of more than 1,000 letters from t...  \n",
       "Woodford folk festival review â a much-needed...  If Woodford folk festival was in mourning this...  \n",
       "In the Line of Duty review â race-against-tim...  Thereâs a straight-to-video feel to this cop...  "
      ]
     },
     "execution_count": 569,
     "metadata": {},
     "output_type": "execute_result"
    }
   ],
   "source": [
    "import pandas as pd #pandas will be used to clean the data and store it in an appropriate form.\n",
    "df = pd.DataFrame() #data is stored in dataframe\n",
    "for i in articles:\n",
    "    df1 = pd.DataFrame(i)\n",
    "    list = [df, df1]\n",
    "    df = pd.concat(list, axis = 0)\n",
    "df = df.reset_index(drop = True)\n",
    "df = df.set_index(\"Title\")\n",
    "df.head(10) #display snippet of the dataframe"
   ]
  },
  {
   "cell_type": "code",
   "execution_count": 570,
   "metadata": {},
   "outputs": [
    {
     "name": "stdout",
     "output_type": "stream",
     "text": [
      "Filename Already in Use\n"
     ]
    }
   ],
   "source": [
    "#save the data to csv file for later use\n",
    "import os\n",
    "filename = \"assignment2.csv\"\n",
    "if os.path.isfile(filename) == False:\n",
    "    pd.Series.to_csv(df, filename) \n",
    "else:\n",
    "    print(\"Filename Already in Use\")"
   ]
  },
  {
   "cell_type": "code",
   "execution_count": 571,
   "metadata": {},
   "outputs": [
    {
     "data": {
      "text/plain": [
       "<function TextIOWrapper.close()>"
      ]
     },
     "execution_count": 571,
     "metadata": {},
     "output_type": "execute_result"
    }
   ],
   "source": [
    "#data also saved to text file for storage\n",
    "filename = \"assignment2.txt\"\n",
    "fout = open(filename, \"w\", encoding = \"utf-8\")\n",
    "text_list = []\n",
    "for page in articles:\n",
    "    for item in page:\n",
    "        new_line = (item['Category'] + \": \" + item['Title'] + item['Snippet'])\n",
    "        text_list.append(new_line)\n",
    "for item in text_list:\n",
    "    fout.write(item)\n",
    "    fout.write(\"\\n\")\n",
    "fout.close"
   ]
  },
  {
   "cell_type": "markdown",
   "metadata": {},
   "source": [
    "## Task 2: Binary Text Classification"
   ]
  },
  {
   "cell_type": "markdown",
   "metadata": {},
   "source": [
    "Initially, I will focus on classifying the Books and Films pair. When successfully completed, I will incorporate the steps into a function so that any pairing can easily be classified and evaluated."
   ]
  },
  {
   "cell_type": "markdown",
   "metadata": {},
   "source": [
    "#### Books and Film"
   ]
  },
  {
   "cell_type": "code",
   "execution_count": 572,
   "metadata": {},
   "outputs": [],
   "source": [
    "#Upload data from csv file into dataframe\n",
    "data = pd.read_csv(r\"C:\\Users\\HP\\Documents\\COMP41680\\Assignment 2 COMP41680\\assignment2.csv\")\n",
    "data.head(10) #display portion of dataframe\n",
    "dataset = data"
   ]
  },
  {
   "cell_type": "code",
   "execution_count": 573,
   "metadata": {},
   "outputs": [
    {
     "data": {
      "text/html": [
       "<div>\n",
       "<style scoped>\n",
       "    .dataframe tbody tr th:only-of-type {\n",
       "        vertical-align: middle;\n",
       "    }\n",
       "\n",
       "    .dataframe tbody tr th {\n",
       "        vertical-align: top;\n",
       "    }\n",
       "\n",
       "    .dataframe thead th {\n",
       "        text-align: right;\n",
       "    }\n",
       "</style>\n",
       "<table border=\"1\" class=\"dataframe\">\n",
       "  <thead>\n",
       "    <tr style=\"text-align: right;\">\n",
       "      <th></th>\n",
       "      <th>Category</th>\n",
       "      <th>Text</th>\n",
       "    </tr>\n",
       "  </thead>\n",
       "  <tbody>\n",
       "    <tr>\n",
       "      <th>0</th>\n",
       "      <td>Books</td>\n",
       "      <td>Be honest. You're not going to read all those ...</td>\n",
       "    </tr>\n",
       "    <tr>\n",
       "      <th>1</th>\n",
       "      <td>Music</td>\n",
       "      <td>Mariah Carey's Twitter account hacked on New Y...</td>\n",
       "    </tr>\n",
       "    <tr>\n",
       "      <th>2</th>\n",
       "      <td>Books</td>\n",
       "      <td>Providence Lost by Paul Lay review â the ris...</td>\n",
       "    </tr>\n",
       "    <tr>\n",
       "      <th>3</th>\n",
       "      <td>Film</td>\n",
       "      <td>War epics, airmen and young Sopranos: essentia...</td>\n",
       "    </tr>\n",
       "    <tr>\n",
       "      <th>4</th>\n",
       "      <td>Books</td>\n",
       "      <td>'I'm on the hunt for humour and hope': what wi...</td>\n",
       "    </tr>\n",
       "    <tr>\n",
       "      <th>...</th>\n",
       "      <td>...</td>\n",
       "      <td>...</td>\n",
       "    </tr>\n",
       "    <tr>\n",
       "      <th>455</th>\n",
       "      <td>Film</td>\n",
       "      <td>Baftas' status at stake in diversity debate, s...</td>\n",
       "    </tr>\n",
       "    <tr>\n",
       "      <th>456</th>\n",
       "      <td>Film</td>\n",
       "      <td>How Brad Pitt's zen reinvention has paved the ...</td>\n",
       "    </tr>\n",
       "    <tr>\n",
       "      <th>457</th>\n",
       "      <td>Music</td>\n",
       "      <td>Radio 4's Brexit music: it feels like somethin...</td>\n",
       "    </tr>\n",
       "    <tr>\n",
       "      <th>458</th>\n",
       "      <td>Music</td>\n",
       "      <td>Bob Shane obituary In 1958 the Kingston Trio, ...</td>\n",
       "    </tr>\n",
       "    <tr>\n",
       "      <th>459</th>\n",
       "      <td>Film</td>\n",
       "      <td>'It makes people uncomfortable': inside the We...</td>\n",
       "    </tr>\n",
       "  </tbody>\n",
       "</table>\n",
       "<p>460 rows × 2 columns</p>\n",
       "</div>"
      ],
      "text/plain": [
       "    Category                                               Text\n",
       "0      Books  Be honest. You're not going to read all those ...\n",
       "1      Music  Mariah Carey's Twitter account hacked on New Y...\n",
       "2      Books  Providence Lost by Paul Lay review â the ris...\n",
       "3       Film  War epics, airmen and young Sopranos: essentia...\n",
       "4      Books  'I'm on the hunt for humour and hope': what wi...\n",
       "..       ...                                                ...\n",
       "455     Film  Baftas' status at stake in diversity debate, s...\n",
       "456     Film  How Brad Pitt's zen reinvention has paved the ...\n",
       "457    Music  Radio 4's Brexit music: it feels like somethin...\n",
       "458    Music  Bob Shane obituary In 1958 the Kingston Trio, ...\n",
       "459     Film  'It makes people uncomfortable': inside the We...\n",
       "\n",
       "[460 rows x 2 columns]"
      ]
     },
     "execution_count": 573,
     "metadata": {},
     "output_type": "execute_result"
    }
   ],
   "source": [
    "data[\"Text\"] = data[\"Title\"] + \" \" + data[\"Snippet\"] #combine text and snippet into single column as per project specs\n",
    "data = data.drop(columns = \"Snippet\")\n",
    "data = data.drop(columns = \"Title\")\n",
    "data"
   ]
  },
  {
   "cell_type": "markdown",
   "metadata": {},
   "source": [
    "### Preprocessing"
   ]
  },
  {
   "cell_type": "markdown",
   "metadata": {},
   "source": [
    "A similar approach can be taken here as to when creating a model to distinguish between spam and non-spam e-mails or between English and Non-English tweets.\n",
    "Seeing as this binary classification needs to be carried out on 3 pairs of categories, it is most efficient to create functions for the varoious steps of the process."
   ]
  },
  {
   "cell_type": "code",
   "execution_count": 574,
   "metadata": {},
   "outputs": [],
   "source": [
    "#first create a function that creates a dataframe only with data pertaining to the categories.\n",
    "def get_df(df, cat1, cat2, col_name):\n",
    "    df = df.copy(deep=True) #this step was added to combat an issue that occurred with the original function which would alter the original dataframe.\n",
    "    df.drop(df[(df[col_name] != cat1) & (df[col_name] != cat2)].index, inplace = True)\n",
    "    return df"
   ]
  },
  {
   "cell_type": "code",
   "execution_count": 575,
   "metadata": {},
   "outputs": [
    {
     "data": {
      "text/html": [
       "<div>\n",
       "<style scoped>\n",
       "    .dataframe tbody tr th:only-of-type {\n",
       "        vertical-align: middle;\n",
       "    }\n",
       "\n",
       "    .dataframe tbody tr th {\n",
       "        vertical-align: top;\n",
       "    }\n",
       "\n",
       "    .dataframe thead th {\n",
       "        text-align: right;\n",
       "    }\n",
       "</style>\n",
       "<table border=\"1\" class=\"dataframe\">\n",
       "  <thead>\n",
       "    <tr style=\"text-align: right;\">\n",
       "      <th></th>\n",
       "      <th>Category</th>\n",
       "      <th>Text</th>\n",
       "    </tr>\n",
       "  </thead>\n",
       "  <tbody>\n",
       "    <tr>\n",
       "      <th>0</th>\n",
       "      <td>Books</td>\n",
       "      <td>Be honest. You're not going to read all those ...</td>\n",
       "    </tr>\n",
       "    <tr>\n",
       "      <th>2</th>\n",
       "      <td>Books</td>\n",
       "      <td>Providence Lost by Paul Lay review â the ris...</td>\n",
       "    </tr>\n",
       "    <tr>\n",
       "      <th>3</th>\n",
       "      <td>Film</td>\n",
       "      <td>War epics, airmen and young Sopranos: essentia...</td>\n",
       "    </tr>\n",
       "    <tr>\n",
       "      <th>4</th>\n",
       "      <td>Books</td>\n",
       "      <td>'I'm on the hunt for humour and hope': what wi...</td>\n",
       "    </tr>\n",
       "    <tr>\n",
       "      <th>5</th>\n",
       "      <td>Film</td>\n",
       "      <td>The most exciting movies of 2020 â horror Th...</td>\n",
       "    </tr>\n",
       "    <tr>\n",
       "      <th>6</th>\n",
       "      <td>Books</td>\n",
       "      <td>Diary of a Murderer by Kim Young-ha review â...</td>\n",
       "    </tr>\n",
       "    <tr>\n",
       "      <th>7</th>\n",
       "      <td>Books</td>\n",
       "      <td>TS Eliotâs intimate letters to confidante un...</td>\n",
       "    </tr>\n",
       "    <tr>\n",
       "      <th>9</th>\n",
       "      <td>Film</td>\n",
       "      <td>In the Line of Duty review â race-against-ti...</td>\n",
       "    </tr>\n",
       "    <tr>\n",
       "      <th>10</th>\n",
       "      <td>Film</td>\n",
       "      <td>We Are from Jazz review â zany Russian music...</td>\n",
       "    </tr>\n",
       "    <tr>\n",
       "      <th>11</th>\n",
       "      <td>Books</td>\n",
       "      <td>The Other Half of Augusta Hope by Joanna Glen ...</td>\n",
       "    </tr>\n",
       "  </tbody>\n",
       "</table>\n",
       "</div>"
      ],
      "text/plain": [
       "   Category                                               Text\n",
       "0     Books  Be honest. You're not going to read all those ...\n",
       "2     Books  Providence Lost by Paul Lay review â the ris...\n",
       "3      Film  War epics, airmen and young Sopranos: essentia...\n",
       "4     Books  'I'm on the hunt for humour and hope': what wi...\n",
       "5      Film  The most exciting movies of 2020 â horror Th...\n",
       "6     Books  Diary of a Murderer by Kim Young-ha review â...\n",
       "7     Books  TS Eliotâs intimate letters to confidante un...\n",
       "9      Film  In the Line of Duty review â race-against-ti...\n",
       "10     Film  We Are from Jazz review â zany Russian music...\n",
       "11    Books  The Other Half of Augusta Hope by Joanna Glen ..."
      ]
     },
     "execution_count": 575,
     "metadata": {},
     "output_type": "execute_result"
    }
   ],
   "source": [
    "#test function to view output\n",
    "df1 = get_df(data, \"Books\", \"Film\", \"Category\")\n",
    "df1.head(10)"
   ]
  },
  {
   "cell_type": "markdown",
   "metadata": {},
   "source": [
    "Labels are stored in Category Column, documents are stored in Text column.\n",
    "\n",
    "*The next few steps will be carried out using the above dataframe. If successful, these steps will be gathered into a function for convenience of repetition with multiple combinations of categories.*"
   ]
  },
  {
   "cell_type": "code",
   "execution_count": 576,
   "metadata": {},
   "outputs": [
    {
     "data": {
      "text/plain": [
       "Books    161\n",
       "Film     152\n",
       "Name: Category, dtype: int64"
      ]
     },
     "execution_count": 576,
     "metadata": {},
     "output_type": "execute_result"
    }
   ],
   "source": [
    "#check to see how balanced the classes are in the dataset\n",
    "df1['Category'].value_counts()"
   ]
  },
  {
   "cell_type": "code",
   "execution_count": 577,
   "metadata": {},
   "outputs": [],
   "source": [
    "documents = df1['Text'] #collection of documents\n",
    "target = df1['Category']\n",
    "target_values = ['Books', 'Film']"
   ]
  },
  {
   "cell_type": "markdown",
   "metadata": {},
   "source": [
    "The next step is to tokenise the collection of documents and build a vocabulary."
   ]
  },
  {
   "cell_type": "markdown",
   "metadata": {},
   "source": [
    "However, I will first add some custom stop words to improve the accuracy moving forward. Please note that these words were chosen after the first version of this programme had been completed. The words in question are 10 of the most frequently occurring words as per the original term frequency analysis of task 3."
   ]
  },
  {
   "cell_type": "code",
   "execution_count": 578,
   "metadata": {},
   "outputs": [
    {
     "name": "stdout",
     "output_type": "stream",
     "text": [
      "Original number of stop words is 179\n",
      "New number of stop words is 189\n"
     ]
    },
    {
     "name": "stderr",
     "output_type": "stream",
     "text": [
      "[nltk_data] Downloading package stopwords to\n",
      "[nltk_data]     C:\\Users\\HP\\AppData\\Roaming\\nltk_data...\n",
      "[nltk_data]   Package stopwords is already up-to-date!\n"
     ]
    }
   ],
   "source": [
    "import nltk\n",
    "nltk.download('stopwords')\n",
    "from nltk.corpus import stopwords\n",
    "#Loading Stopwords into a list\n",
    "NLTK_stop_words_list=stopwords.words('english')\n",
    "print(\"Original number of stop words is %d\" %len(NLTK_stop_words_list))\n",
    "newWords = ['review', 'summary', 'new', 'year', 'time', '2020', 'world', 'best', 'week', 'years' ]\n",
    "new_stopwords = NLTK_stop_words_list + newWords\n",
    "print(\"New number of stop words is %d\" %len(new_stopwords))"
   ]
  },
  {
   "cell_type": "code",
   "execution_count": 579,
   "metadata": {},
   "outputs": [
    {
     "name": "stdout",
     "output_type": "stream",
     "text": [
      "(313, 39)\n",
      "Vocabulary has 39 distinct terms\n",
      "['age', 'american', 'author', 'awards', 'book', 'books', 'british', 'director', 'drama', 'ever']\n"
     ]
    }
   ],
   "source": [
    "from sklearn.feature_extraction.text import CountVectorizer, TfidfTransformer\n",
    "#create document-term matrix, Countvectoriser will return integer values\n",
    "vectorizer = CountVectorizer(min_df = 10, stop_words = new_stopwords) #I found that greater accuracy was achieved when english stop words were filtered\n",
    "X = vectorizer.fit_transform(documents)\n",
    "#print shape of document-term matrix\n",
    "print(X.shape)\n",
    "#create vocabulary\n",
    "vocab = vectorizer.get_feature_names()\n",
    "print(\"Vocabulary has %d distinct terms\" % len(vocab))\n",
    "# display a set of sample terms\n",
    "print(vocab[:10])"
   ]
  },
  {
   "cell_type": "markdown",
   "metadata": {},
   "source": [
    "#### Term Frequency Analysis\n",
    "Analysis is now carried out to identify the terms with the highest weighting."
   ]
  },
  {
   "cell_type": "code",
   "execution_count": 580,
   "metadata": {},
   "outputs": [
    {
     "name": "stdout",
     "output_type": "stream",
     "text": [
      "1. film = 71.00\n",
      "2. book = 46.00\n",
      "3. first = 31.00\n",
      "4. novel = 29.00\n",
      "5. one = 22.00\n",
      "6. two = 21.00\n",
      "7. awards = 20.00\n",
      "8. story = 20.00\n",
      "9. oscar = 19.00\n",
      "10. last = 18.00\n",
      "11. war = 18.00\n",
      "12. books = 18.00\n",
      "13. golden = 17.00\n",
      "14. director = 17.00\n",
      "15. globes = 17.00\n",
      "16. young = 17.00\n",
      "17. love = 16.00\n",
      "18. would = 16.00\n",
      "19. british = 16.00\n",
      "20. drama = 16.00\n"
     ]
    }
   ],
   "source": [
    "frequencies = X.sum(axis=0) # sum over the columns\n",
    "sorted_indexes = frequencies.argsort() # sort the indexes of the array by value, and then reverse it\n",
    "sorted_indexes = sorted_indexes[0, ::-1]\n",
    "# display the top 20 terms\n",
    "for i in range(20):\n",
    "    term_index = sorted_indexes[0,i]\n",
    "    print(\"%d. %s = %.2f\" % ((i+1), vocab[term_index], frequencies[0,term_index] ))"
   ]
  },
  {
   "cell_type": "markdown",
   "metadata": {},
   "source": [
    "### Classification"
   ]
  },
  {
   "cell_type": "markdown",
   "metadata": {},
   "source": [
    "A KNN model will be built and evaluated using a single test/training split.\n",
    "\n",
    "The data will be split into 80% training data and 20% test data.\n"
   ]
  },
  {
   "cell_type": "code",
   "execution_count": 581,
   "metadata": {},
   "outputs": [],
   "source": [
    "from sklearn.model_selection import train_test_split\n",
    "from sklearn.neighbors import KNeighborsClassifier\n",
    "from sklearn.metrics import accuracy_score, confusion_matrix,ConfusionMatrixDisplay"
   ]
  },
  {
   "cell_type": "code",
   "execution_count": 582,
   "metadata": {},
   "outputs": [],
   "source": [
    "data_training, data_test, target_training, target_test = train_test_split(X, target, test_size=0.2)"
   ]
  },
  {
   "cell_type": "code",
   "execution_count": 583,
   "metadata": {},
   "outputs": [
    {
     "name": "stdout",
     "output_type": "stream",
     "text": [
      "Training data is made up of 250 articles.\n",
      "Test data is made up of 63 articles.\n"
     ]
    }
   ],
   "source": [
    "print(\"Training data is made up of %d articles.\" % data_training.shape[0] )\n",
    "print(\"Test data is made up of %d articles.\" % data_test.shape[0] )"
   ]
  },
  {
   "cell_type": "code",
   "execution_count": 584,
   "metadata": {},
   "outputs": [
    {
     "data": {
      "text/plain": [
       "array(['Books', 'Books', 'Books', 'Books', 'Books', 'Books', 'Books',\n",
       "       'Books', 'Books', 'Books', 'Film', 'Books', 'Books', 'Books',\n",
       "       'Books', 'Books', 'Books', 'Books', 'Books', 'Film', 'Books',\n",
       "       'Books', 'Film', 'Books', 'Film', 'Books', 'Books', 'Books',\n",
       "       'Books', 'Books', 'Books', 'Books', 'Books', 'Film', 'Books',\n",
       "       'Books', 'Books', 'Books', 'Film', 'Film', 'Books', 'Books',\n",
       "       'Books', 'Books', 'Books', 'Books', 'Books', 'Film', 'Books',\n",
       "       'Film', 'Film', 'Books', 'Books', 'Books', 'Film', 'Film', 'Books',\n",
       "       'Books', 'Film', 'Books', 'Books', 'Books', 'Books'], dtype=object)"
      ]
     },
     "execution_count": 584,
     "metadata": {},
     "output_type": "execute_result"
    }
   ],
   "source": [
    "model = KNeighborsClassifier(n_neighbors=3) #prepare KNN model for 3 nearest neighbours\n",
    "model.fit(data_training, target_training)\n",
    "predicted = model.predict(data_test) #make predictions for articles in the set\n",
    "predicted"
   ]
  },
  {
   "cell_type": "markdown",
   "metadata": {},
   "source": [
    "### Evaluation"
   ]
  },
  {
   "cell_type": "markdown",
   "metadata": {},
   "source": [
    "Seeing as the test set is small, we can probably see all the cases where the model made a mistake."
   ]
  },
  {
   "cell_type": "code",
   "execution_count": 585,
   "metadata": {},
   "outputs": [
    {
     "name": "stdout",
     "output_type": "stream",
     "text": [
      "187: British-Trinidadian dub poet Roger Robinson wins TS Eliot prize Roger Robinson, the British-Trinidadian dub poet, has won the prestigious TS Eliot prize on his first nomination for his collection A Portable Paradis …\n",
      "109: A World Without Work by Daniel Susskind review â should we be delighted or terrified? Oscar Wilde dreamed of a world without work. In The Soul of Man Under Socialism (1891) he imagined a society liberated from drudgery by the machine: â …\n"
     ]
    }
   ],
   "source": [
    "for i, predicted_class in enumerate(predicted):\n",
    "    if target_test.iloc[i] == \"Books\" and predicted_class == \"Film\": #find \"Books\" articles that were mistaken as \"Film\" articles\n",
    "        text = target_test.index[i]\n",
    "        print(\"%s: %s\" % ( text, df1.loc[text][\"Text\"] ) )"
   ]
  },
  {
   "cell_type": "code",
   "execution_count": 586,
   "metadata": {},
   "outputs": [
    {
     "name": "stdout",
     "output_type": "stream",
     "text": [
      "197: Lucian Freud: A Self Portrait review â picturing a titan of British art The latest in the excellent Exhibition on Screen series is pinned to the current Lucian Freud: The Self Portraits show at the Royal Academy, which is …\n",
      "454: No country for young men: why are the male actor nominees so old? It is hardly breaking news that Hollywood skews towards white males, but looking down this awards seasonâs acting nominations, a certain kind of white …\n",
      "167: My Oscar goes to... our film critics reveal their personal shortlists Mark Kermode Best picture â my shortlist (favourite first) â¢ PARASITE â¢ Monos â¢ Rocketman â¢ For Sama â¢ Little Women Many of my favourite films of 2019 …\n",
      "92: The Runaways review â a bumpy escape â¦ by donkey One or two nice moments in this British family adventure drama, a feature debut written and directed by the TV documentary-maker Richard Heap. But it …\n",
      "348: The Turning review â stolid take on The Turn of the Screw This contemporary adaptation of The Turn of the Screw takes the ornate enigma of Henry Jamesâs gothic novella and whittles it down into something rath …\n",
      "129: Is Kristen Stewart too good for big-budget blockbusters? Summary: There are two sorts of movie stars, and the demands of the market are such that the first type must occasionally pretend to be the second type. The fi …\n",
      "9: In the Line of Duty review â race-against-time cop thriller Thereâs a straight-to-video feel to this cop thriller, directed by action veteran Steven C Miller, written by Jeremy Drysdale (who scripted the indie …\n",
      "51: Paolo Sorrentino: âMy charactersâ struggles are the struggles I haveâ The Naples-born director and screenwriter Paolo Sorrentino had his first screenplay made when he was in his 20s, and has since written and directed ni …\n",
      "406: Quezon's Game review â second world war refugee drama lands with a thud In 1939, Philippines president Manuel Quezon gave sanctuary to 1,200 Jews from Germany and Austria as other countries slammed their doors shut. Quezon …\n",
      "405: Kobe Bryant to be honoured at Oscars The Oscars will honour basketball great Kobe Bryant during the Academy awards ceremony on 9 February. Bryant died on Sunday in a helicopter crash in C …\n",
      "325: The Turning review â ham-fisted trickery saps a classic ghost story Henry Jamesâs classic 1898 ghost story The Turn of the Screw is splodged with unsubtlety in this jump-scary new screen version, wasting a lot of actin …\n",
      "169: Seberg review â Kristen Stewart outshines flat script Based on the real-life targeted campaign of intimidation by the FBI against the American actress Jean Seberg, this portrait of a woman pushed to break …\n",
      "372: Downhill review â Ferrell and Louis-Dreyfus crash with redundant remake When it was announced in 2018 that the critically adored Swedish comedy Force Majeure would be remade by Fox, the overwhelming response from anyone wh …\n",
      "395: Every Studio Ghibli film â ranked! Summary: 22. Porco Rosso (1992) The first of Hayao Miyazakiâs aviation-themed films, it remains unclear why its pilot character is a pig (unfortunately, a sexi …\n",
      "309: Everything: The Real Thing Story review â endearingly told Brit-soul music doc Simon Sheridanâs solid, efficient documentary pays tribute to the Liverpudlian pop-soul beat combo the Real Thing, who had a No 1 in the UK with the s …\n",
      "49: From Scorsese to The Crown, Netflix gets set for Golden Globes glory Summary: Betting odds predict the loudest sounds of cheering and popping corks in Los Angeles on Sunday night will come from inside the Beverly Hilton Hotel. F …\n",
      "102: Can Joaquin Phoenix save the planet by wearing one tuxedo for the whole awards season? At last some good news for the planet: in conjunction with a general plea for sustainability, Joker star Joaquin Phoenix has vowed to re-purpose his G …\n",
      "115: Brazilian judge orders Netflix to remove 'gay Jesus' comedy A Brazilian judge on Wednesday ordered Netflix to stop showing a Christmas special that some called blasphemous for depicting Jesus as a gay man and w …\n",
      "316: Paw Patrol: Ready, Race, Rescue! review âÂ 48 minutes in the pits They sure do churn em out. Hereâs another episode of Nickelodeonâs animated TV show about a team of rescue dogs, jazzed up and padded out into a 48-mi …\n",
      "336: Miss Americana review â Taylor Swift doc is too stage-managed to truly sing Summary: Itâs safe to say that by the end of Miss Americana, a quickie documentary on the recent trials and tribulations of Taylor Swift opening this yearâs Su …\n",
      "77: Colossally overrated Joker beneficiary of Bafta awards groupthink The Bafta nominations have been announced and the list contains an innovation for which insiders have been calling for years: a new category for casti …\n"
     ]
    }
   ],
   "source": [
    "for i, predicted_class in enumerate(predicted):\n",
    "    if target_test.iloc[i] == \"Film\" and predicted_class == \"Books\": #find \"Film\" articles that were mistaken as \"Books\" articles\n",
    "        text = target_test.index[i]\n",
    "        print(\"%s: %s\" % ( text, df1.loc[text][\"Text\"] ) )"
   ]
  },
  {
   "cell_type": "markdown",
   "metadata": {},
   "source": [
    "The next step is to quantify the model's accuracy."
   ]
  },
  {
   "cell_type": "code",
   "execution_count": 587,
   "metadata": {},
   "outputs": [
    {
     "name": "stdout",
     "output_type": "stream",
     "text": [
      "Accuracy = 0.6349\n"
     ]
    }
   ],
   "source": [
    "print(\"Accuracy = %.4f\" % accuracy_score(target_test, predicted))"
   ]
  },
  {
   "cell_type": "markdown",
   "metadata": {},
   "source": [
    "A confusion matrix can be printed to outline where the model errors lie."
   ]
  },
  {
   "cell_type": "code",
   "execution_count": 588,
   "metadata": {},
   "outputs": [
    {
     "data": {
      "image/png": "[encoded data removed]",
      "text/plain": [
       "<Figure size 432x288 with 2 Axes>"
      ]
     },
     "metadata": {
      "needs_background": "light"
     },
     "output_type": "display_data"
    }
   ],
   "source": [
    "# calculate the matrix \n",
    "cm = confusion_matrix(target_test, predicted, labels=[\"Books\",\"Film\"])\n",
    "# display it graphically\n",
    "cmd = ConfusionMatrixDisplay(cm, display_labels=target_values)\n",
    "cmd.plot();"
   ]
  },
  {
   "cell_type": "code",
   "execution_count": 589,
   "metadata": {},
   "outputs": [
    {
     "name": "stdout",
     "output_type": "stream",
     "text": [
      "The confusion matrix tells us the following:\n",
      "\n",
      "29 Book articles out of 31 were correctly predicted.\n",
      "11 Film articles out of 32 were correctly predicted.\n"
     ]
    }
   ],
   "source": [
    "print(\"The confusion matrix tells us the following:\\n\")\n",
    "print(\"%d Book articles out of %d were correctly predicted.\"%(cm[0][0], cm[0][0] + cm[0][1]))\n",
    "print(\"%d Film articles out of %d were correctly predicted.\"%(cm[1][1], cm[1][1] + cm[1][0]))"
   ]
  },
  {
   "cell_type": "markdown",
   "metadata": {},
   "source": [
    "Precision, recall, and F1 scores can be computed to evaluate the performance on each measure."
   ]
  },
  {
   "cell_type": "code",
   "execution_count": 590,
   "metadata": {},
   "outputs": [
    {
     "name": "stdout",
     "output_type": "stream",
     "text": [
      "Precision (Books) = 0.5800\n",
      "Recall (Books) = 0.9355\n",
      "Precision (Film) = 0.8462\n",
      "Recall (Film) = 0.3438\n",
      "F1 (Books) = 0.7160\n",
      "F1 (Film) = 0.4889\n",
      "\n",
      "              precision    recall  f1-score   support\n",
      "\n",
      "       Books       0.58      0.94      0.72        31\n",
      "        Film       0.85      0.34      0.49        32\n",
      "\n",
      "    accuracy                           0.63        63\n",
      "   macro avg       0.71      0.64      0.60        63\n",
      "weighted avg       0.72      0.63      0.60        63\n",
      "\n",
      "F1 score provides a single number that balances the concerns of both precision and recall scores. In this case, the above F1 scores give an idea of the model's accuracy in predicting each class.\n"
     ]
    }
   ],
   "source": [
    "from sklearn.metrics import accuracy_score, precision_score, recall_score, f1_score, classification_report\n",
    "\n",
    "print(\"Precision (Books) = %.4f\" % precision_score(target_test, predicted, pos_label=\"Books\") )\n",
    "print(\"Recall (Books) = %.4f\" % recall_score(target_test, predicted, pos_label=\"Books\") )\n",
    "\n",
    "print(\"Precision (Film) = %.4f\" % precision_score(target_test, predicted, pos_label=\"Film\") )\n",
    "print(\"Recall (Film) = %.4f\" % recall_score(target_test, predicted, pos_label=\"Film\") )\n",
    "\n",
    "print(\"F1 (Books) = %.4f\" % f1_score(target_test, predicted, pos_label=\"Books\") )\n",
    "print(\"F1 (Film) = %.4f\\n\" % f1_score(target_test, predicted, pos_label=\"Film\") )\n",
    "\n",
    "print(classification_report(target_test, predicted, target_names=target_values))\n",
    "\n",
    "print(\"F1 score provides a single number that balances the concerns of both precision and recall scores. In this case, the above F1 scores give an idea of the model's accuracy in predicting each class.\")"
   ]
  },
  {
   "cell_type": "markdown",
   "metadata": {},
   "source": [
    "Binary classification and evaluation have been successfully carried out in the above steps for the Books and Film category pairing. For the sake of efficiency, these steps will be combined into a single function that will give the same output for each category pairing"
   ]
  },
  {
   "cell_type": "code",
   "execution_count": 591,
   "metadata": {},
   "outputs": [
    {
     "data": {
      "text/html": [
       "<div>\n",
       "<style scoped>\n",
       "    .dataframe tbody tr th:only-of-type {\n",
       "        vertical-align: middle;\n",
       "    }\n",
       "\n",
       "    .dataframe tbody tr th {\n",
       "        vertical-align: top;\n",
       "    }\n",
       "\n",
       "    .dataframe thead th {\n",
       "        text-align: right;\n",
       "    }\n",
       "</style>\n",
       "<table border=\"1\" class=\"dataframe\">\n",
       "  <thead>\n",
       "    <tr style=\"text-align: right;\">\n",
       "      <th></th>\n",
       "      <th>Category</th>\n",
       "      <th>Text</th>\n",
       "    </tr>\n",
       "  </thead>\n",
       "  <tbody>\n",
       "    <tr>\n",
       "      <th>0</th>\n",
       "      <td>Books</td>\n",
       "      <td>Be honest. You're not going to read all those ...</td>\n",
       "    </tr>\n",
       "    <tr>\n",
       "      <th>1</th>\n",
       "      <td>Music</td>\n",
       "      <td>Mariah Carey's Twitter account hacked on New Y...</td>\n",
       "    </tr>\n",
       "    <tr>\n",
       "      <th>2</th>\n",
       "      <td>Books</td>\n",
       "      <td>Providence Lost by Paul Lay review â the ris...</td>\n",
       "    </tr>\n",
       "    <tr>\n",
       "      <th>3</th>\n",
       "      <td>Film</td>\n",
       "      <td>War epics, airmen and young Sopranos: essentia...</td>\n",
       "    </tr>\n",
       "    <tr>\n",
       "      <th>4</th>\n",
       "      <td>Books</td>\n",
       "      <td>'I'm on the hunt for humour and hope': what wi...</td>\n",
       "    </tr>\n",
       "    <tr>\n",
       "      <th>...</th>\n",
       "      <td>...</td>\n",
       "      <td>...</td>\n",
       "    </tr>\n",
       "    <tr>\n",
       "      <th>455</th>\n",
       "      <td>Film</td>\n",
       "      <td>Baftas' status at stake in diversity debate, s...</td>\n",
       "    </tr>\n",
       "    <tr>\n",
       "      <th>456</th>\n",
       "      <td>Film</td>\n",
       "      <td>How Brad Pitt's zen reinvention has paved the ...</td>\n",
       "    </tr>\n",
       "    <tr>\n",
       "      <th>457</th>\n",
       "      <td>Music</td>\n",
       "      <td>Radio 4's Brexit music: it feels like somethin...</td>\n",
       "    </tr>\n",
       "    <tr>\n",
       "      <th>458</th>\n",
       "      <td>Music</td>\n",
       "      <td>Bob Shane obituary In 1958 the Kingston Trio, ...</td>\n",
       "    </tr>\n",
       "    <tr>\n",
       "      <th>459</th>\n",
       "      <td>Film</td>\n",
       "      <td>'It makes people uncomfortable': inside the We...</td>\n",
       "    </tr>\n",
       "  </tbody>\n",
       "</table>\n",
       "<p>460 rows × 2 columns</p>\n",
       "</div>"
      ],
      "text/plain": [
       "    Category                                               Text\n",
       "0      Books  Be honest. You're not going to read all those ...\n",
       "1      Music  Mariah Carey's Twitter account hacked on New Y...\n",
       "2      Books  Providence Lost by Paul Lay review â the ris...\n",
       "3       Film  War epics, airmen and young Sopranos: essentia...\n",
       "4      Books  'I'm on the hunt for humour and hope': what wi...\n",
       "..       ...                                                ...\n",
       "455     Film  Baftas' status at stake in diversity debate, s...\n",
       "456     Film  How Brad Pitt's zen reinvention has paved the ...\n",
       "457    Music  Radio 4's Brexit music: it feels like somethin...\n",
       "458    Music  Bob Shane obituary In 1958 the Kingston Trio, ...\n",
       "459     Film  'It makes people uncomfortable': inside the We...\n",
       "\n",
       "[460 rows x 2 columns]"
      ]
     },
     "execution_count": 591,
     "metadata": {},
     "output_type": "execute_result"
    }
   ],
   "source": [
    "data"
   ]
  },
  {
   "cell_type": "code",
   "execution_count": 608,
   "metadata": {},
   "outputs": [],
   "source": [
    "import numpy as np\n",
    "\n",
    "#the below function was used to overcome a bug with the initial classify_and_evaluate function which was causing the input dataset to be altered\n",
    "def test(df): #https://stackoverflow.com/questions/31614011/dataframe-modified-inside-a-function\n",
    "    df = df.copy(deep=True)\n",
    "    df['tt'] = np.nan\n",
    "    return df\n",
    "\n",
    "def classify_and_evaluate(data, cat1, cat2, col_name_info, col_name_class, test_set_proportion):\n",
    "\n",
    "    data = test(data)\n",
    "    print ('\\033[1m' + 'Binary Classification and Evaluation Summary')\n",
    "    print ('\\033[0m')\n",
    "    print(\"\\n\\nThe classes are %s and %s\\n\\n\" %(cat1,cat2))\n",
    "\n",
    "    df1 = get_df(data, cat1, cat2, col_name_class)\n",
    "    documents = df1[col_name_info] #collection of documents\n",
    "    target = df1[col_name_class]\n",
    "    target_values = [cat1, cat2]\n",
    "    \n",
    "    print(\"Data Summary:\\nNumber of articles by category:\\n\")\n",
    "    print(df1[col_name_class].value_counts())\n",
    "    print(\"\\n\\n\")\n",
    "\n",
    "    #create document-term matrix, Countvectoriser will return integer values\n",
    "    vectorizer = CountVectorizer(min_df = 10, stop_words = new_stopwords) #I found that greater accuracy was achieved when english stop words were filtered\n",
    "    X = vectorizer.fit_transform(documents)\n",
    "    #print shape of document-term matrix\n",
    "    print(\"Document-Term Matrix Shape:\", X.shape)\n",
    "    print(\"\\n\")\n",
    "    #create vocabulary\n",
    "    vocab = vectorizer.get_feature_names()\n",
    "    print(\"Vocabulary has %d distinct terms\" % len(vocab))\n",
    "    print(\"\\n\")\n",
    "    # display a set of sample terms\n",
    "    print(\"Vocabulary Sample:\", vocab[:10])\n",
    "    print(\"\\n\")\n",
    "    \n",
    "    print(\"Term Weighting - Top 20:\\n\")\n",
    "    # sum over the columns\n",
    "    frequencies = X.sum(axis=0)\n",
    "    # sort the indexes of the array by value, and then reverse it\n",
    "    sorted_indexes = frequencies.argsort()\n",
    "    sorted_indexes = sorted_indexes[0, ::-1]\n",
    "    # display the top 20 terms\n",
    "    for i in range(20):\n",
    "        term_index = sorted_indexes[0,i]\n",
    "        print(\"%d. %s = %.2f\" % ((i+1), vocab[term_index], frequencies[0,term_index] ))\n",
    "        \n",
    "        data_training, data_test, target_training, target_test = train_test_split(X, target, test_size=test_set_proportion)\n",
    "    \n",
    "    print(\"\\n\\nTraining vs Test Data:\\n\")\n",
    "    print(\"The data is split in the ratio of %d %s test data to %d %s training data\" %(test_set_proportion*100,\"%\",(1-test_set_proportion)*100,\"%\"))\n",
    "    print(\"Training data is made up of %d articles.\" % data_training.shape[0] )\n",
    "    print(\"Test data is made up of %d articles.\" % data_test.shape[0] )\n",
    "    \n",
    "    model = KNeighborsClassifier(n_neighbors=3) #prepare KNN model for 3 nearest neighbours\n",
    "    model.fit(data_training, target_training)\n",
    "    predicted = model.predict(data_test) #make predictions for articles in the set\n",
    "    print(\"\\nBelow is the model's predictions of the class of each article in the test data:\\n\")\n",
    "    print(predicted)\n",
    "    print(\"\\n\")\n",
    "    \n",
    "    print ('\\033[1m')\n",
    "    print(\"Listed below are articles that are from the %s category, but were mistaken by the model as being from the %s category:\\n\" %(cat1, cat2))\n",
    "    print ('\\033[0m')\n",
    "    \n",
    "    for i, predicted_class in enumerate(predicted):\n",
    "        if target_test.iloc[i] == cat1 and predicted_class == cat2:\n",
    "            text = target_test.index[i]\n",
    "            print(\"%s: %s\\n\" % ( text, df1.loc[text][col_name_info] ) )\n",
    "            \n",
    "    print ('\\033[1m')\n",
    "    print(\"Listed below are articles that are from the %s category, but were mistaken by the model as being from the %s category:\\n\" %(cat2, cat1))\n",
    "    print ('\\033[0m')\n",
    "    \n",
    "    for i, predicted_class in enumerate(predicted):\n",
    "        if target_test.iloc[i] == cat2 and predicted_class == cat1:\n",
    "            text = target_test.index[i]\n",
    "            print(\"%s: %s\\n\" % ( text, df1.loc[text][col_name_info] ) )\n",
    "    \n",
    "    print ('\\033[1m')\n",
    "    print(\"\\n\\nAccuracy = %.4f\" % accuracy_score(target_test, predicted))\n",
    "    print ('\\033[0m')\n",
    "    \n",
    "    # calculate the matrix \n",
    "    cm = confusion_matrix(target_test, predicted, labels=[cat1, cat2])\n",
    "    # display it graphically\n",
    "    cmd = ConfusionMatrixDisplay(cm, display_labels=target_values)\n",
    "    cmd.plot();\n",
    "    \n",
    "    print ('\\033[1m')\n",
    "    print(\"Classification Report:\\n\")\n",
    "    print ('\\033[0m')\n",
    "    print(\"Precision (%s) = %.4f\" % (cat1, precision_score(target_test, predicted, pos_label=cat1) ))\n",
    "    print(\"Recall (%s) = %.4f\" %(cat1, recall_score(target_test, predicted, pos_label=cat1) ))\n",
    "\n",
    "    print(\"Precision (%s) = %.4f\"%(cat2,precision_score(target_test, predicted, pos_label=cat2) ))\n",
    "    print(\"Recall (%s) = %.4f\"%(cat2,recall_score(target_test, predicted, pos_label=cat2) ))\n",
    "\n",
    "    print(\"F1 (%s) = %.4f\" % (cat1, f1_score(target_test, predicted, pos_label=cat1) ))\n",
    "    print(\"F1 (%s) = %.4f\\n\" %(cat2, f1_score(target_test, predicted, pos_label=cat2) ))\n",
    "    \n",
    "    print(\"F1 score provides a single number that balances the concerns of both precision and recall scores. In this case, the above F1 scores give an idea of the model's accuracy in predicting each class.\\n\")\n",
    "\n",
    "    print(classification_report(target_test, predicted, target_names=target_values))\n",
    "    \n",
    "    print(\"\\nThe Confusion Matrix below tells us the following:\\n\")\n",
    "    print(\"%d %s articles out of %d were correctly predicted.\"%(cm[0][0], cat1, cm[0][1] + cm[0][0]))\n",
    "    print(\"%d %s articles out of %d were correctly predicted.\"%(cm[1][1], cat2, cm[1][0] + cm[1][1]))\n",
    "    \n",
    "    print ('\\033[1m')\n",
    "    print(\"Confusion Matrix:\")\n",
    "    print ('\\033[0m')\n",
    "    \n",
    "    "
   ]
  },
  {
   "cell_type": "markdown",
   "metadata": {},
   "source": [
    "The remaining class pairs will no be run through the new function"
   ]
  },
  {
   "cell_type": "markdown",
   "metadata": {},
   "source": [
    "### Music and Film"
   ]
  },
  {
   "cell_type": "code",
   "execution_count": 609,
   "metadata": {},
   "outputs": [
    {
     "name": "stdout",
     "output_type": "stream",
     "text": [
      "\u001b[1mBinary Classification and Evaluation Summary\n",
      "\u001b[0m\n",
      "\n",
      "\n",
      "The classes are Music and Film\n",
      "\n",
      "\n",
      "Data Summary:\n",
      "Number of articles by category:\n",
      "\n",
      "Film     152\n",
      "Music    147\n",
      "Name: Category, dtype: int64\n",
      "\n",
      "\n",
      "\n",
      "Document-Term Matrix Shape: (299, 38)\n",
      "\n",
      "\n",
      "Vocabulary has 38 distinct terms\n",
      "\n",
      "\n",
      "Vocabulary Sample: ['academy', 'aged', 'album', 'awards', 'big', 'british', 'died', 'director', 'drama', 'ever']\n",
      "\n",
      "\n",
      "Term Weighting - Top 20:\n",
      "\n",
      "1. film = 72.00\n",
      "2. music = 39.00\n",
      "3. one = 31.00\n",
      "4. first = 27.00\n",
      "5. awards = 24.00\n",
      "6. pop = 22.00\n",
      "7. album = 21.00\n",
      "8. two = 19.00\n",
      "9. like = 19.00\n",
      "10. director = 18.00\n",
      "11. last = 17.00\n",
      "12. globes = 17.00\n",
      "13. oscar = 17.00\n",
      "14. movie = 17.00\n",
      "15. festival = 17.00\n",
      "16. itâ = 17.00\n",
      "17. golden = 17.00\n",
      "18. british = 16.00\n",
      "19. drama = 15.00\n",
      "20. big = 15.00\n",
      "\n",
      "\n",
      "Training vs Test Data:\n",
      "\n",
      "The data is split in the ratio of 20 % test data to 80 % training data\n",
      "Training data is made up of 239 articles.\n",
      "Test data is made up of 60 articles.\n",
      "\n",
      "Below is the model's predictions of the class of each article in the test data:\n",
      "\n",
      "['Music' 'Film' 'Music' 'Music' 'Music' 'Music' 'Film' 'Film' 'Music'\n",
      " 'Film' 'Music' 'Music' 'Music' 'Film' 'Music' 'Music' 'Film' 'Music'\n",
      " 'Music' 'Film' 'Film' 'Music' 'Music' 'Film' 'Music' 'Film' 'Film'\n",
      " 'Music' 'Film' 'Music' 'Music' 'Music' 'Film' 'Music' 'Music' 'Music'\n",
      " 'Music' 'Music' 'Film' 'Music' 'Music' 'Music' 'Music' 'Music' 'Film'\n",
      " 'Music' 'Music' 'Music' 'Film' 'Film' 'Film' 'Film' 'Film' 'Music' 'Film'\n",
      " 'Film' 'Film' 'Film' 'Music' 'Music']\n",
      "\n",
      "\n",
      "\u001b[1m\n",
      "Listed below are articles that are from the Music category, but were mistaken by the model as being from the Film category:\n",
      "\n",
      "\u001b[0m\n",
      "308: The month's best mixes: mutating moods and club-ready wreckers DJ Taj Jersey Club Winter Mix 2020 TikTokâs meme-driven transformation of Old Town Road into a global blockbuster hit was cultural amplification on an …\n",
      "\n",
      "218: Gold singer: Billie Eilish v Shirley Bassey â who is more Bond? James Bond is getting on a bit â the first film came out 58 years ago â but it seems his latest adventure will still sound fresh, with the 18-year-old …\n",
      "\n",
      "302: Suspended Grammys chief Deborah Dugan alleges sexual misconduct in Recording Academy Deborah Dugan, the chief executive and president of the Recording Academy, which organises the Grammy awards, who was suspended last week after a misc …\n",
      "\n",
      "322: J Hus âÂ Big Conspiracy review: British rap star lights up his own lane Earlier this week, it became apparent that J Husâs new album, the follow-up to 2017âs Brit and Mercury-nominated Common Sense, had leaked. It was a th …\n",
      "\n",
      "\u001b[1m\n",
      "Listed below are articles that are from the Film category, but were mistaken by the model as being from the Music category:\n",
      "\n",
      "\u001b[0m\n",
      "399: The Last Thing He Wanted review â misfiring Anne Hathaway thriller The Last Thing He Wanted, a package that must have seemed seductive on paper, with a red-hot writer-director, a stacked cast of Oscar winners and nomi …\n",
      "\n",
      "405: Kobe Bryant to be honoured at Oscars The Oscars will honour basketball great Kobe Bryant during the Academy awards ceremony on 9 February. Bryant died on Sunday in a helicopter crash in C …\n",
      "\n",
      "316: Paw Patrol: Ready, Race, Rescue! review âÂ 48 minutes in the pits They sure do churn em out. Hereâs another episode of Nickelodeonâs animated TV show about a team of rescue dogs, jazzed up and padded out into a 48-mi …\n",
      "\n",
      "432: No politics please, we're Oscar contenders Summary: This seasonâs lineup of awards contenders has much to offer: it may be the best crop of hopefuls for a decade. Fine direction, acting, sound, design a …\n",
      "\n",
      "9: In the Line of Duty review â race-against-time cop thriller Thereâs a straight-to-video feel to this cop thriller, directed by action veteran Steven C Miller, written by Jeremy Drysdale (who scripted the indie …\n",
      "\n",
      "287: Jonathan Pryce: âThereâs a definite shortage of 72-year-old Welsh menâ It is the day after the Oscar nominations, and Jonathan Pryce is perched at a corner table in a humdrum London bar, guest of honour at the saddest cel …\n",
      "\n",
      "296: Letter: Tony Britton obituary In his obituary of Tony Britton, Michael Coveney noted the intriguing disconnect between the actorâs humble Midlands origins and his subsequent âdebon …\n",
      "\n",
      "192: âWe are not afforded the luxury of being averageâ: how Waves unpicks the pressures of âblack excellenceâ When Kelvin Harrison Jr, 25, was working on his lead role in Waves, his manager asked him if he wanted to pull out. âThere was a fear,â he says, about …\n",
      "\n",
      "336: Miss Americana review â Taylor Swift doc is too stage-managed to truly sing Summary: Itâs safe to say that by the end of Miss Americana, a quickie documentary on the recent trials and tribulations of Taylor Swift opening this yearâs Su …\n",
      "\n",
      "349: Melina Matsoukas: âI didn't grow up seeing dark-skinned people fall in love on screenâ Melina Matsoukas, 39, directed some of the most acclaimed music videos of the 2010s, including Rihannaâs We Found Love, Solangeâs Losing You and Beyon …\n",
      "\n",
      "372: Downhill review â Ferrell and Louis-Dreyfus crash with redundant remake When it was announced in 2018 that the critically adored Swedish comedy Force Majeure would be remade by Fox, the overwhelming response from anyone wh …\n",
      "\n",
      "\u001b[1m\n",
      "\n",
      "\n",
      "Accuracy = 0.7500\n",
      "\u001b[0m\n",
      "\u001b[1m\n",
      "Classification Report:\n",
      "\n",
      "\u001b[0m\n",
      "Precision (Music) = 0.6944\n",
      "Recall (Music) = 0.8621\n",
      "Precision (Film) = 0.8333\n",
      "Recall (Film) = 0.6452\n",
      "F1 (Music) = 0.7692\n",
      "F1 (Film) = 0.7273\n",
      "\n",
      "F1 score provides a single number that balances the concerns of both precision and recall scores. In this case, the above F1 scores give an idea of the model's accuracy in predicting each class.\n",
      "\n",
      "              precision    recall  f1-score   support\n",
      "\n",
      "       Music       0.83      0.65      0.73        31\n",
      "        Film       0.69      0.86      0.77        29\n",
      "\n",
      "    accuracy                           0.75        60\n",
      "   macro avg       0.76      0.75      0.75        60\n",
      "weighted avg       0.77      0.75      0.75        60\n",
      "\n",
      "\n",
      "The Confusion Matrix below tells us the following:\n",
      "\n",
      "25 Music articles out of 29 were correctly predicted.\n",
      "20 Film articles out of 31 were correctly predicted.\n",
      "\u001b[1m\n",
      "Confusion Matrix:\n",
      "\u001b[0m\n"
     ]
    },
    {
     "data": {
      "image/png": "[encoded data removed]",
      "text/plain": [
       "<Figure size 432x288 with 2 Axes>"
      ]
     },
     "metadata": {
      "needs_background": "light"
     },
     "output_type": "display_data"
    }
   ],
   "source": [
    "#classification and evaluation for music and film category pair\n",
    "classify_and_evaluate(dataset, 'Music', 'Film', 'Text', 'Category', 0.2)"
   ]
  },
  {
   "cell_type": "markdown",
   "metadata": {},
   "source": [
    "### Books and Music"
   ]
  },
  {
   "cell_type": "code",
   "execution_count": 610,
   "metadata": {},
   "outputs": [
    {
     "name": "stdout",
     "output_type": "stream",
     "text": [
      "\u001b[1mBinary Classification and Evaluation Summary\n",
      "\u001b[0m\n",
      "\n",
      "\n",
      "The classes are Music and Books\n",
      "\n",
      "\n",
      "Data Summary:\n",
      "Number of articles by category:\n",
      "\n",
      "Books    161\n",
      "Music    147\n",
      "Name: Category, dtype: int64\n",
      "\n",
      "\n",
      "\n",
      "Document-Term Matrix Shape: (308, 35)\n",
      "\n",
      "\n",
      "Vocabulary has 35 distinct terms\n",
      "\n",
      "\n",
      "Vocabulary Sample: ['age', 'aged', 'album', 'american', 'author', 'book', 'books', 'debut', 'died', 'fiction']\n",
      "\n",
      "\n",
      "Term Weighting - Top 20:\n",
      "\n",
      "1. book = 43.00\n",
      "2. first = 38.00\n",
      "3. music = 36.00\n",
      "4. one = 29.00\n",
      "5. novel = 29.00\n",
      "6. two = 24.00\n",
      "7. album = 21.00\n",
      "8. last = 21.00\n",
      "9. pop = 21.00\n",
      "10. like = 19.00\n",
      "11. us = 18.00\n",
      "12. books = 18.00\n",
      "13. london = 16.00\n",
      "14. author = 14.00\n",
      "15. fiction = 14.00\n",
      "16. obituary = 14.00\n",
      "17. age = 14.00\n",
      "18. itâ = 13.00\n",
      "19. died = 13.00\n",
      "20. good = 12.00\n",
      "\n",
      "\n",
      "Training vs Test Data:\n",
      "\n",
      "The data is split in the ratio of 20 % test data to 80 % training data\n",
      "Training data is made up of 246 articles.\n",
      "Test data is made up of 62 articles.\n",
      "\n",
      "Below is the model's predictions of the class of each article in the test data:\n",
      "\n",
      "['Books' 'Books' 'Books' 'Books' 'Music' 'Music' 'Books' 'Books' 'Books'\n",
      " 'Music' 'Music' 'Books' 'Books' 'Books' 'Music' 'Books' 'Books' 'Books'\n",
      " 'Music' 'Books' 'Music' 'Books' 'Music' 'Music' 'Books' 'Music' 'Music'\n",
      " 'Books' 'Music' 'Books' 'Books' 'Books' 'Music' 'Books' 'Books' 'Music'\n",
      " 'Music' 'Books' 'Music' 'Music' 'Books' 'Books' 'Books' 'Books' 'Music'\n",
      " 'Music' 'Books' 'Music' 'Books' 'Books' 'Music' 'Books' 'Music' 'Music'\n",
      " 'Music' 'Books' 'Books' 'Books' 'Music' 'Books' 'Books' 'Books']\n",
      "\n",
      "\n",
      "\u001b[1m\n",
      "Listed below are articles that are from the Music category, but were mistaken by the model as being from the Books category:\n",
      "\n",
      "\u001b[0m\n",
      "344: The week in classical: Street Scene; SCO/ Emelyanychev â review Sweltering heat, a crowded Manhattan tenement of people failing to mind each otherâs business, Kurt Weillâs Street Scene (1946) bristles with disconte …\n",
      "\n",
      "190: James Blunt: how we made You're Beautiful Summary: James Blunt, singer-songwriter Iâd been telling my mates that I was going to be a professional musician since I was 14. When I was a captain in the Br …\n",
      "\n",
      "310: Juice WRLD's death ruled accidental oxycodone and codeine overdose The rapper Juice WRLDâs official cause of death has been ruled an accidental overdose. The Cook county medical examinerâs office cited toxic levels of …\n",
      "\n",
      "368: Letter: Herbert Chappell obituary I knew Herbert Chappell from when he was working on his doctorate at Oxford. Having graduated in English, I embarked, without formal qualifications an …\n",
      "\n",
      "366: PoliÃ§a: When We Stay Alive review â airs of elegant detachment Minneapolisâs PoliÃ§a set out their stall on their excellent 2012 debut, Give You the Ghost. With Ryan Olsonâs ahead-of-its-time blend of indie, alt-R& …\n",
      "\n",
      "253: The week in classical: La bohÃ¨me; Nature Unwrapped review â from the garret to the stars Summary: Each encounter with Pucciniâs La bohÃ¨me â assuming the performance is up to scratch, which the Royal Operaâs latest revival is â makes you rethink the …\n",
      "\n",
      "179: Vijay Iyer: Ritual Ensemble review â thrilling curveballs from Harvard's best Vijay Iyer introduced the Ritual Ensembleâs concert in his Wigmore Hall composer-in-residence series by observing: âWe all have an affiliation with Ha …\n",
      "\n",
      "183: Day6 review â powerpop and positive energy from frenetic k-rockers Summary: Sympathy is extended to Day6 fans who arrive too late to bag a spot at the front of the queue. By 7am on Sunday, 100 determined MyDays â the collectiv …\n",
      "\n",
      "386: The familiar Sydney sound spliced into Billie Eilish's Bad Guy If you listened carefully, you might just have heard it. Sitting underneath the pulsating chorus of Billie Eilishâs Grammy award-winning smash hit, Ba …\n",
      "\n",
      "270: Street Scene review â full justice for murder in Manhattan First performed in Philadelphia in 1946 before a Broadway transfer the following year, Street Scene, now given a fine new production by Opera North, i …\n",
      "\n",
      "34: Mystery of Rolling Stones tracks posted briefly on YouTube A mysterious YouTube account that posted, then hid, a collection of 75 rare and unpublished Rolling Stones recordings may have been a canny attempt to …\n",
      "\n",
      "237: Bombay Bicycle Club: Everything Else Has Gone Wrong review â songs to buy a mid-range hatchback to Even when reunions are no longer surprising but inevitable, Bombay Bicycle Clubâs return is striking: just four years after they split, here is a fift …\n",
      "\n",
      "\u001b[1m\n",
      "Listed below are articles that are from the Books category, but were mistaken by the model as being from the Music category:\n",
      "\n",
      "\u001b[0m\n",
      "4: 'I'm on the hunt for humour and hope': what will authors be reading in 2020? Matt Haig I have been very dark and gloomy with my reading habits this year, perhaps in tune with the social mood. Like a pig sniffing for truffles, I …\n",
      "\n",
      "435: Mary Beard sits for naked portrait in new BBC programme The academic and TV presenter Mary Beard has taken a bold approach to her new two-part investigation of the history and impact of the nude in art by c …\n",
      "\n",
      "158: Travel in time with HG Wells â¦ inside his favourite library Behind the leather spines that line the bookshelves of the London Library lie pages that have inspired some of the English languageâs most influential …\n",
      "\n",
      "281: Tips, links and suggestions: what are you reading this week? Welcome to this weekâs blogpost. Hereâs our roundup of your comments and photos from the last week. Lucky Alex42 has just discovered PG Wodehouse and …\n",
      "\n",
      "168: Race, literature, lovers ... and fake breasts: my chats with Elizabeth Wurtzel Summary: Pop culture loves the hot mess: a female character â real or otherwise â hurtling from one improbable drama to the next. She is gregarious and oversha …\n",
      "\n",
      "\u001b[1m\n",
      "\n",
      "\n",
      "Accuracy = 0.7258\n",
      "\u001b[0m\n",
      "\u001b[1m\n",
      "Classification Report:\n",
      "\n",
      "\u001b[0m\n",
      "Precision (Music) = 0.8000\n",
      "Recall (Music) = 0.6250\n",
      "Precision (Books) = 0.6757\n",
      "Recall (Books) = 0.8333\n",
      "F1 (Music) = 0.7018\n",
      "F1 (Books) = 0.7463\n",
      "\n",
      "F1 score provides a single number that balances the concerns of both precision and recall scores. In this case, the above F1 scores give an idea of the model's accuracy in predicting each class.\n",
      "\n",
      "              precision    recall  f1-score   support\n",
      "\n",
      "       Music       0.68      0.83      0.75        30\n",
      "       Books       0.80      0.62      0.70        32\n",
      "\n",
      "    accuracy                           0.73        62\n",
      "   macro avg       0.74      0.73      0.72        62\n",
      "weighted avg       0.74      0.73      0.72        62\n",
      "\n",
      "\n",
      "The Confusion Matrix below tells us the following:\n",
      "\n",
      "20 Music articles out of 32 were correctly predicted.\n",
      "25 Books articles out of 30 were correctly predicted.\n",
      "\u001b[1m\n",
      "Confusion Matrix:\n",
      "\u001b[0m\n"
     ]
    },
    {
     "data": {
      "image/png": "[encoded data removed]",
      "text/plain": [
       "<Figure size 432x288 with 2 Axes>"
      ]
     },
     "metadata": {
      "needs_background": "light"
     },
     "output_type": "display_data"
    }
   ],
   "source": [
    "#classification for books and music classification pair\n",
    "classify_and_evaluate(dataset, 'Music', 'Books', 'Text', 'Category', 0.2)"
   ]
  },
  {
   "cell_type": "markdown",
   "metadata": {},
   "source": [
    "## Task 3: Multi-Class Text Classification"
   ]
  },
  {
   "cell_type": "markdown",
   "metadata": {},
   "source": [
    "### Preprocessing"
   ]
  },
  {
   "cell_type": "markdown",
   "metadata": {},
   "source": [
    "Recall the dataset being used."
   ]
  },
  {
   "cell_type": "code",
   "execution_count": 611,
   "metadata": {},
   "outputs": [
    {
     "data": {
      "text/html": [
       "<div>\n",
       "<style scoped>\n",
       "    .dataframe tbody tr th:only-of-type {\n",
       "        vertical-align: middle;\n",
       "    }\n",
       "\n",
       "    .dataframe tbody tr th {\n",
       "        vertical-align: top;\n",
       "    }\n",
       "\n",
       "    .dataframe thead th {\n",
       "        text-align: right;\n",
       "    }\n",
       "</style>\n",
       "<table border=\"1\" class=\"dataframe\">\n",
       "  <thead>\n",
       "    <tr style=\"text-align: right;\">\n",
       "      <th></th>\n",
       "      <th>Category</th>\n",
       "      <th>Text</th>\n",
       "    </tr>\n",
       "  </thead>\n",
       "  <tbody>\n",
       "    <tr>\n",
       "      <th>0</th>\n",
       "      <td>Books</td>\n",
       "      <td>Be honest. You're not going to read all those ...</td>\n",
       "    </tr>\n",
       "    <tr>\n",
       "      <th>1</th>\n",
       "      <td>Music</td>\n",
       "      <td>Mariah Carey's Twitter account hacked on New Y...</td>\n",
       "    </tr>\n",
       "    <tr>\n",
       "      <th>2</th>\n",
       "      <td>Books</td>\n",
       "      <td>Providence Lost by Paul Lay review â the ris...</td>\n",
       "    </tr>\n",
       "    <tr>\n",
       "      <th>3</th>\n",
       "      <td>Film</td>\n",
       "      <td>War epics, airmen and young Sopranos: essentia...</td>\n",
       "    </tr>\n",
       "    <tr>\n",
       "      <th>4</th>\n",
       "      <td>Books</td>\n",
       "      <td>'I'm on the hunt for humour and hope': what wi...</td>\n",
       "    </tr>\n",
       "    <tr>\n",
       "      <th>5</th>\n",
       "      <td>Film</td>\n",
       "      <td>The most exciting movies of 2020 â horror Th...</td>\n",
       "    </tr>\n",
       "    <tr>\n",
       "      <th>6</th>\n",
       "      <td>Books</td>\n",
       "      <td>Diary of a Murderer by Kim Young-ha review â...</td>\n",
       "    </tr>\n",
       "    <tr>\n",
       "      <th>7</th>\n",
       "      <td>Books</td>\n",
       "      <td>TS Eliotâs intimate letters to confidante un...</td>\n",
       "    </tr>\n",
       "    <tr>\n",
       "      <th>8</th>\n",
       "      <td>Music</td>\n",
       "      <td>Woodford folk festival review â a much-neede...</td>\n",
       "    </tr>\n",
       "    <tr>\n",
       "      <th>9</th>\n",
       "      <td>Film</td>\n",
       "      <td>In the Line of Duty review â race-against-ti...</td>\n",
       "    </tr>\n",
       "  </tbody>\n",
       "</table>\n",
       "</div>"
      ],
      "text/plain": [
       "  Category                                               Text\n",
       "0    Books  Be honest. You're not going to read all those ...\n",
       "1    Music  Mariah Carey's Twitter account hacked on New Y...\n",
       "2    Books  Providence Lost by Paul Lay review â the ris...\n",
       "3     Film  War epics, airmen and young Sopranos: essentia...\n",
       "4    Books  'I'm on the hunt for humour and hope': what wi...\n",
       "5     Film  The most exciting movies of 2020 â horror Th...\n",
       "6    Books  Diary of a Murderer by Kim Young-ha review â...\n",
       "7    Books  TS Eliotâs intimate letters to confidante un...\n",
       "8    Music  Woodford folk festival review â a much-neede...\n",
       "9     Film  In the Line of Duty review â race-against-ti..."
      ]
     },
     "execution_count": 611,
     "metadata": {},
     "output_type": "execute_result"
    }
   ],
   "source": [
    "data.head(10)"
   ]
  },
  {
   "cell_type": "markdown",
   "metadata": {},
   "source": [
    "The 3 article categories or classes are Books, Music, and Film."
   ]
  },
  {
   "cell_type": "code",
   "execution_count": 612,
   "metadata": {},
   "outputs": [],
   "source": [
    "target_values = [\"Books\", \"Film\", \"Music\"]\n",
    "documents = data[\"Text\"]# Content for all documents\n",
    "target = df[\"Category\"]# Class labels for all documents"
   ]
  },
  {
   "cell_type": "code",
   "execution_count": 613,
   "metadata": {},
   "outputs": [
    {
     "data": {
      "text/plain": [
       "Books    161\n",
       "Film     152\n",
       "Music    147\n",
       "Name: Category, dtype: int64"
      ]
     },
     "execution_count": 613,
     "metadata": {},
     "output_type": "execute_result"
    }
   ],
   "source": [
    "target.value_counts() #display distribution of data across categories"
   ]
  },
  {
   "cell_type": "code",
   "execution_count": 614,
   "metadata": {},
   "outputs": [
    {
     "name": "stdout",
     "output_type": "stream",
     "text": [
      "Matrix Shape: (460, 74)\n",
      "Vocabulary has 74 distinct terms\n",
      "['academy', 'age', 'aged', 'album', 'american', 'announced', 'author', 'award', 'awards', 'back']\n"
     ]
    }
   ],
   "source": [
    "#create document-term matrix, Countvectoriser will return integer values\n",
    "vectorizer = CountVectorizer(min_df = 10, stop_words = new_stopwords) #stop words will be kept in due to the varying themes of documents in each category\n",
    "X = vectorizer.fit_transform(documents)\n",
    "#print shape of document-term matrix\n",
    "print(\"Matrix Shape:\",X.shape)\n",
    "#create vocabulary\n",
    "vocab = vectorizer.get_feature_names()\n",
    "print(\"Vocabulary has %d distinct terms\" % len(vocab)) \n",
    "# display a set of sample terms\n",
    "print(vocab[:10]) #print sample of vocabulary"
   ]
  },
  {
   "cell_type": "markdown",
   "metadata": {},
   "source": [
    "Term frequency analysis is carried out in a similar manner to task 2."
   ]
  },
  {
   "cell_type": "code",
   "execution_count": 615,
   "metadata": {},
   "outputs": [
    {
     "name": "stdout",
     "output_type": "stream",
     "text": [
      "1. film = 73.00\n",
      "2. first = 48.00\n",
      "3. book = 46.00\n",
      "4. one = 41.00\n",
      "5. music = 40.00\n",
      "6. two = 32.00\n",
      "7. novel = 29.00\n",
      "8. last = 28.00\n",
      "9. awards = 27.00\n",
      "10. like = 25.00\n",
      "11. pop = 23.00\n",
      "12. war = 22.00\n",
      "13. us = 22.00\n",
      "14. itâ = 21.00\n",
      "15. album = 21.00\n",
      "16. story = 21.00\n",
      "17. young = 20.00\n",
      "18. british = 20.00\n",
      "19. director = 19.00\n",
      "20. oscar = 19.00\n"
     ]
    }
   ],
   "source": [
    "frequencies = X.sum(axis=0) # sum over the columns\n",
    "sorted_indexes = frequencies.argsort() # sort the indexes of the array by value, and then reverse it\n",
    "sorted_indexes = sorted_indexes[0, ::-1]\n",
    "# display top 20 terms\n",
    "for i in range(20):\n",
    "    term_index = sorted_indexes[0,i]\n",
    "    print(\"%d. %s = %.2f\" % ((i+1), vocab[term_index], frequencies[0,term_index] ))"
   ]
  },
  {
   "cell_type": "markdown",
   "metadata": {},
   "source": [
    "A KNN model will be built and evaluated using a single test/training split.\n",
    "\n",
    "The data will be split into 80% training data and 20% test data."
   ]
  },
  {
   "cell_type": "code",
   "execution_count": 616,
   "metadata": {},
   "outputs": [
    {
     "name": "stdout",
     "output_type": "stream",
     "text": [
      "Training data is made up of 368 articles.\n",
      "Test data is made up of 92 articles.\n"
     ]
    }
   ],
   "source": [
    "data_training, data_test, target_training, target_test = train_test_split(X, target, test_size=0.2)\n",
    "print(\"Training data is made up of %d articles.\" % data_training.shape[0] )\n",
    "print(\"Test data is made up of %d articles.\" % data_test.shape[0] )\n",
    "model = KNeighborsClassifier(n_neighbors=3) #prepare KNN model for 3 nearest neighbours"
   ]
  },
  {
   "cell_type": "code",
   "execution_count": 617,
   "metadata": {},
   "outputs": [
    {
     "data": {
      "text/plain": [
       "array(['Books', 'Music', 'Books', 'Books', 'Music', 'Music', 'Music',\n",
       "       'Books', 'Books', 'Film'], dtype=object)"
      ]
     },
     "execution_count": 617,
     "metadata": {},
     "output_type": "execute_result"
    }
   ],
   "source": [
    "model.fit(data_training, target_training)\n",
    "predicted = model.predict(data_test) #make predictions for articles in the set\n",
    "predicted[:10] #print a sample"
   ]
  },
  {
   "cell_type": "markdown",
   "metadata": {},
   "source": [
    "### Evaluation"
   ]
  },
  {
   "cell_type": "markdown",
   "metadata": {},
   "source": [
    "Seeing as the test set is small, we can probably see all the cases where the model made a mistake, however I will just print 5 examples to save space."
   ]
  },
  {
   "cell_type": "code",
   "execution_count": 618,
   "metadata": {},
   "outputs": [
    {
     "name": "stdout",
     "output_type": "stream",
     "text": [
      "Uncanny Valley: A Memoir by Anna Wiener review â beggars and tech billionaires: \n",
      "Stephen King faces backlash over comments on Oscars diversity: \n",
      "In brief: On the Up; How to Be an Activist; The Silent Patient â reviews: \n",
      "In the Dream House by Carmen Maria Machado â review: \n",
      "Dear Life by Rachel Clarke review â somewhere towards the end: \n"
     ]
    }
   ],
   "source": [
    "counter = 0\n",
    "for i, predicted_class in enumerate(predicted):\n",
    "    if target_test[i] == \"Books\" and (predicted_class == \"Film\" or predicted_class == \"Music\"): #find \"Books\" articles that were mistaken as \"Film\" articles\n",
    "        text = target_test.index[i]\n",
    "        print(\"%s: \" % text)\n",
    "        counter += 1\n",
    "    if counter == 5:\n",
    "        break\n"
   ]
  },
  {
   "cell_type": "code",
   "execution_count": 619,
   "metadata": {},
   "outputs": [
    {
     "name": "stdout",
     "output_type": "stream",
     "text": [
      "Pet Shop Boys: Hotspot review â evergreen dancefloor nous: \n",
      "La Roux: 'My label dropped me on New Year's Day. I was like, yippee!': \n",
      "The familiar Sydney sound spliced into Billie Eilish's Bad Guy: \n",
      "Keeley Forsyth: how the Happy Valley actor became the new Scott Walker: \n",
      "Woodford folk festival review â a much-needed moment of positivity and reprieve: \n"
     ]
    }
   ],
   "source": [
    "counter = 0\n",
    "for i, predicted_class in enumerate(predicted):\n",
    "    if target_test[i] == \"Music\" and (predicted_class == \"Film\" or predicted_class == \"Books\"): #find \"Music\" articles that were mistaken as \"Books\" or Film articles\n",
    "        text = target_test.index[i]\n",
    "        print(\"%s: \" % text)\n",
    "        counter += 1\n",
    "    if counter == 5:\n",
    "        break"
   ]
  },
  {
   "cell_type": "code",
   "execution_count": 620,
   "metadata": {},
   "outputs": [
    {
     "name": "stdout",
     "output_type": "stream",
     "text": [
      "Queen & Slim review â odd couple on the run in a punchy thriller: \n",
      "Vegan food, recycled tuxedos â and billions of tonnes of CO2: can Hollywood ever go green?: \n",
      "Deadly charms: can Kit Harington survive Marvel's The Eternals?: \n",
      "Downhill review â Ferrell and Louis-Dreyfus crash with redundant remake: \n",
      "The Rescue review â turbulent Chinese air-rescue adventure: \n"
     ]
    }
   ],
   "source": [
    "counter = 0\n",
    "for i, predicted_class in enumerate(predicted):\n",
    "    if target_test[i] == \"Film\" and (predicted_class == \"Books\" or predicted_class == \"Music\"): #find \"Film\" articles that were mistaken as \"Books\" or \"Music\" articles\n",
    "        text = target_test.index[i]\n",
    "        print(\"%s: \" % text) \n",
    "        counter += 1\n",
    "    if counter == 5:\n",
    "        break"
   ]
  },
  {
   "cell_type": "code",
   "execution_count": 621,
   "metadata": {},
   "outputs": [
    {
     "name": "stdout",
     "output_type": "stream",
     "text": [
      "Accuracy = 0.4891\n"
     ]
    }
   ],
   "source": [
    "print(\"Accuracy = %.4f\" % accuracy_score(target_test, predicted))"
   ]
  },
  {
   "cell_type": "markdown",
   "metadata": {},
   "source": [
    "Accuracy was improved by removing english stop words and custom stop words."
   ]
  },
  {
   "cell_type": "code",
   "execution_count": 622,
   "metadata": {},
   "outputs": [
    {
     "data": {
      "image/png": "[encoded data removed]",
      "text/plain": [
       "<Figure size 432x288 with 2 Axes>"
      ]
     },
     "metadata": {
      "needs_background": "light"
     },
     "output_type": "display_data"
    }
   ],
   "source": [
    "# calculate the matrix \n",
    "cm = confusion_matrix(target_test, predicted, labels=[\"Books\",\"Film\", \"Music\"])\n",
    "# display it graphically\n",
    "cmd = ConfusionMatrixDisplay(cm, display_labels=target_values)\n",
    "cmd.plot();"
   ]
  },
  {
   "cell_type": "code",
   "execution_count": 623,
   "metadata": {},
   "outputs": [
    {
     "name": "stdout",
     "output_type": "stream",
     "text": [
      "The confusion matrix tells us the following:\n",
      "\n",
      "21 Book articles out of 31 were correctly predicted.\n",
      "13 Film articles out of 34 were correctly predicted.\n",
      "11 Music articles out of 27 were correctly predicted.\n"
     ]
    }
   ],
   "source": [
    "print(\"The confusion matrix tells us the following:\\n\")\n",
    "print(\"%d Book articles out of %d were correctly predicted.\"%(cm[0][0], cm[0][1] + cm[0][2] + cm[0][0]))\n",
    "print(\"%d Film articles out of %d were correctly predicted.\"%(cm[1][1], cm[1][1] + cm[1][2] + cm[1][0]))\n",
    "print(\"%d Music articles out of %d were correctly predicted.\"%(cm[2][2], cm[2][1] + cm[2][2] + cm[2][0]))"
   ]
  }
 ],
 "metadata": {
  "kernelspec": {
   "display_name": "Python 3",
   "language": "python",
   "name": "python3"
  },
  "language_info": {
   "codemirror_mode": {
    "name": "ipython",
    "version": 3
   },
   "file_extension": ".py",
   "mimetype": "text/x-python",
   "name": "python",
   "nbconvert_exporter": "python",
   "pygments_lexer": "ipython3",
   "version": "3.8.5"
  }
 },
 "nbformat": 4,
 "nbformat_minor": 4
}
